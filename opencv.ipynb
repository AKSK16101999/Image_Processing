{
 "cells": [
  {
   "cell_type": "raw",
   "metadata": {},
   "source": [
    "opencv  -  opencv-contribe-python\n",
    "caer - speed up workflow"
   ]
  },
  {
   "cell_type": "code",
   "execution_count": 1,
   "metadata": {},
   "outputs": [],
   "source": [
    "import cv2  as cv"
   ]
  },
  {
   "cell_type": "code",
   "execution_count": 2,
   "metadata": {},
   "outputs": [],
   "source": [
    "import numpy as np"
   ]
  },
  {
   "cell_type": "raw",
   "metadata": {},
   "source": [
    "how to read image"
   ]
  },
  {
   "cell_type": "code",
   "execution_count": 3,
   "metadata": {},
   "outputs": [
    {
     "data": {
      "text/plain": [
       "-1"
      ]
     },
     "execution_count": 3,
     "metadata": {},
     "output_type": "execute_result"
    }
   ],
   "source": [
    "img=cv.imread(\"0.png\")\n",
    "cv.imshow(\"img\",img)\n",
    "cv.waitKey(0)"
   ]
  },
  {
   "cell_type": "raw",
   "metadata": {},
   "source": [
    "how to read video"
   ]
  },
  {
   "cell_type": "code",
   "execution_count": 11,
   "metadata": {},
   "outputs": [],
   "source": [
    "video = cv.VideoCapture(0)\n",
    "while True:\n",
    "    ret,frame=video.read()\n",
    "    cv.imshow(\"video\",frame)\n",
    "    if cv.waitKey(0) :\n",
    "        break\n",
    "video.release()\n",
    "cv.destroyAllWindows()"
   ]
  },
  {
   "cell_type": "raw",
   "metadata": {},
   "source": [
    "rescale img"
   ]
  },
  {
   "cell_type": "code",
   "execution_count": 3,
   "metadata": {},
   "outputs": [
    {
     "data": {
      "text/plain": [
       "-1"
      ]
     },
     "execution_count": 3,
     "metadata": {},
     "output_type": "execute_result"
    }
   ],
   "source": [
    "img2=cv.resize(img,(128,128))\n",
    "cv.imshow(\"img\",img2)\n",
    "cv.waitKey(0)"
   ]
  },
  {
   "cell_type": "code",
   "execution_count": null,
   "metadata": {},
   "outputs": [],
   "source": [
    "video = cv.VideoCapture(0)\n",
    "while True:\n",
    "    isTrue,frame=video.read()\n",
    "    frame=cv.resize(frame,(128,128))\n",
    "    cv.imshow(\"video\",frame)\n",
    "    if cv.waitKey(0):\n",
    "        break\n",
    "    capture.release()\n",
    "    cv.destroyAllWindows()"
   ]
  },
  {
   "cell_type": "raw",
   "metadata": {},
   "source": [
    "draw shape"
   ]
  },
  {
   "cell_type": "code",
   "execution_count": 5,
   "metadata": {},
   "outputs": [
    {
     "data": {
      "text/plain": [
       "-1"
      ]
     },
     "execution_count": 5,
     "metadata": {},
     "output_type": "execute_result"
    }
   ],
   "source": [
    "blank=np.zeros((500,500,3),dtype='uint8')\n",
    "cv.imshow(\"blank\",blank)\n",
    "cv.waitKey(0)"
   ]
  },
  {
   "cell_type": "raw",
   "metadata": {},
   "source": [
    "blank img with color"
   ]
  },
  {
   "cell_type": "code",
   "execution_count": 7,
   "metadata": {},
   "outputs": [
    {
     "data": {
      "text/plain": [
       "0"
      ]
     },
     "execution_count": 7,
     "metadata": {},
     "output_type": "execute_result"
    }
   ],
   "source": [
    "blank=np.zeros((500,500,3),dtype='uint8')\n",
    "blank[:] = 0,255,0\n",
    "cv.imshow(\"blank\",blank)\n",
    "cv.waitKey(0)"
   ]
  },
  {
   "cell_type": "code",
   "execution_count": null,
   "metadata": {},
   "outputs": [],
   "source": [
    "blank=np.zeros((500,500,3),dtype='uint8')\n",
    "blank[100:300, 200:400] = 0,255,0\n",
    "cv.imshow(\"blank\",blank)\n",
    "cv.waitKey(0)"
   ]
  },
  {
   "cell_type": "raw",
   "metadata": {},
   "source": [
    "draw line , circle , rect on img"
   ]
  },
  {
   "cell_type": "code",
   "execution_count": null,
   "metadata": {},
   "outputs": [],
   "source": [
    "blank=np.zeros((500,500,3),dtype='uint8')\n",
    "blank[:] = 0,255,0\n",
    "cv.rectangle(blank,(100,100),(400,400),(255,255,0),thickness=-1)\n",
    "cv.circle(blank,(250,250),100,(255,0,0),thickness=-1)\n",
    "cv.line(blank,(100,100),(400,400),(0,0,255),thickness=3)\n",
    "cv.imshow(\"blank\",blank)\n",
    "cv.waitKey(0)"
   ]
  },
  {
   "cell_type": "raw",
   "metadata": {},
   "source": [
    "write text on img"
   ]
  },
  {
   "cell_type": "code",
   "execution_count": null,
   "metadata": {},
   "outputs": [],
   "source": [
    "blank=np.zeros((500,500,3),dtype='uint8')\n",
    "cv.putText(blank,\"hii\",(300,300),cv.FONT_HERSHEY_TRIPLEX,2.0,(255,0,255),2)\n",
    "cv.imshow(\"blank\",blank)\n",
    "cv.waitKey(0)"
   ]
  },
  {
   "cell_type": "raw",
   "metadata": {},
   "source": [
    "convert img"
   ]
  },
  {
   "cell_type": "code",
   "execution_count": 13,
   "metadata": {},
   "outputs": [
    {
     "data": {
      "text/plain": [
       "-1"
      ]
     },
     "execution_count": 13,
     "metadata": {},
     "output_type": "execute_result"
    }
   ],
   "source": [
    "img=cv.imread(\"0.png\")\n",
    "img1=cv.cvtColor(img,cv.COLOR_BGR2GRAY)\n",
    "cv.imshow(\"img\",img1)\n",
    "cv.waitKey(0)"
   ]
  },
  {
   "cell_type": "code",
   "execution_count": 14,
   "metadata": {},
   "outputs": [
    {
     "data": {
      "text/plain": [
       "-1"
      ]
     },
     "execution_count": 14,
     "metadata": {},
     "output_type": "execute_result"
    }
   ],
   "source": [
    "img=cv.imread(\"0.png\")\n",
    "cv.imshow(\"img\",img)\n",
    "img=cv.GaussianBlur(img,(7,7),cv.BORDER_DEFAULT)\n",
    "cv.imshow(\"img\",img)\n",
    "cv.waitKey(0)"
   ]
  },
  {
   "cell_type": "raw",
   "metadata": {},
   "source": [
    "edge cascade"
   ]
  },
  {
   "cell_type": "code",
   "execution_count": 20,
   "metadata": {},
   "outputs": [
    {
     "data": {
      "text/plain": [
       "-1"
      ]
     },
     "execution_count": 20,
     "metadata": {},
     "output_type": "execute_result"
    }
   ],
   "source": [
    "img=cv.imread(\"0.png\")\n",
    "canny=cv.Canny(img,100,200)\n",
    "cv.imshow(\"img\",canny)\n",
    "cv.waitKey(0)"
   ]
  },
  {
   "cell_type": "raw",
   "metadata": {},
   "source": [
    "dilating images"
   ]
  },
  {
   "cell_type": "code",
   "execution_count": 22,
   "metadata": {},
   "outputs": [
    {
     "data": {
      "text/plain": [
       "-1"
      ]
     },
     "execution_count": 22,
     "metadata": {},
     "output_type": "execute_result"
    }
   ],
   "source": [
    "img=cv.imread(\"0.png\")\n",
    "img=cv.dilate(canny,(7,7),iterations=1)\n",
    "cv.imshow(\"img\",img)\n",
    "cv.waitKey(0)"
   ]
  },
  {
   "cell_type": "raw",
   "metadata": {},
   "source": [
    "eroding"
   ]
  },
  {
   "cell_type": "code",
   "execution_count": 31,
   "metadata": {},
   "outputs": [
    {
     "data": {
      "text/plain": [
       "-1"
      ]
     },
     "execution_count": 31,
     "metadata": {},
     "output_type": "execute_result"
    }
   ],
   "source": [
    "img=cv.erode(canny,(7,7),iterations=1)\n",
    "cv.imshow(\"img\",img)\n",
    "cv.waitKey(0)"
   ]
  },
  {
   "cell_type": "raw",
   "metadata": {},
   "source": [
    "cropped"
   ]
  },
  {
   "cell_type": "code",
   "execution_count": 34,
   "metadata": {},
   "outputs": [
    {
     "data": {
      "text/plain": [
       "-1"
      ]
     },
     "execution_count": 34,
     "metadata": {},
     "output_type": "execute_result"
    }
   ],
   "source": [
    "img=cv.erode(canny,(7,7),iterations=1)\n",
    "croped=img[100:200,300:500]\n",
    "cv.imshow(\"img\",croped)\n",
    "cv.waitKey(0)"
   ]
  },
  {
   "cell_type": "raw",
   "metadata": {},
   "source": [
    "image tranformation"
   ]
  },
  {
   "cell_type": "raw",
   "metadata": {},
   "source": [
    "translation"
   ]
  },
  {
   "cell_type": "code",
   "execution_count": null,
   "metadata": {},
   "outputs": [],
   "source": [
    "img=cv.imread(\"0.png\")\n",
    "\n",
    "cv.imshow(\"img\",img)\n",
    "cv.waitKey(0)"
   ]
  },
  {
   "cell_type": "code",
   "execution_count": null,
   "metadata": {},
   "outputs": [],
   "source": []
  },
  {
   "cell_type": "code",
   "execution_count": null,
   "metadata": {},
   "outputs": [],
   "source": []
  },
  {
   "cell_type": "code",
   "execution_count": null,
   "metadata": {},
   "outputs": [],
   "source": []
  }
 ],
 "metadata": {
  "kernelspec": {
   "display_name": "Python 3",
   "language": "python",
   "name": "python3"
  },
  "language_info": {
   "codemirror_mode": {
    "name": "ipython",
    "version": 3
   },
   "file_extension": ".py",
   "mimetype": "text/x-python",
   "name": "python",
   "nbconvert_exporter": "python",
   "pygments_lexer": "ipython3",
   "version": "3.7.6"
  }
 },
 "nbformat": 4,
 "nbformat_minor": 4
}
