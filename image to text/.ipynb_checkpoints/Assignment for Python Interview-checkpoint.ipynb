{
 "cells": [
  {
   "cell_type": "code",
   "execution_count": 1,
   "metadata": {},
   "outputs": [],
   "source": [
    "# import library\n",
    "import re,cv2\n",
    "import pytesseract\n",
    "pytesseract.pytesseract.tesseract_cmd = r'C:\\Program Files\\Tesseract-OCR\\tesseract.exe'"
   ]
  },
  {
   "cell_type": "markdown",
   "metadata": {},
   "source": [
    "# A]  You have to extract DIE No  (in the top left corner of the image) from both the images using Python and write the numbers in a text file."
   ]
  },
  {
   "cell_type": "code",
   "execution_count": 2,
   "metadata": {},
   "outputs": [
    {
     "name": "stdout",
     "output_type": "stream",
     "text": [
      "['91401']\n"
     ]
    }
   ],
   "source": [
    "img1=cv2.imread(\"1.jpg\")\n",
    "text=pytesseract.image_to_string(img1[:50])\n",
    "text1=re.findall(r\"[\\d]+\",text)\n",
    "print(text1)"
   ]
  },
  {
   "cell_type": "code",
   "execution_count": 3,
   "metadata": {},
   "outputs": [
    {
     "name": "stdout",
     "output_type": "stream",
     "text": [
      "['89002']\n"
     ]
    }
   ],
   "source": [
    "img2=cv2.imread(\"2.jpg\")\n",
    "text=pytesseract.image_to_string(img2[:50])\n",
    "text2=re.findall(r\"[\\d]+\",text)\n",
    "print(text2)"
   ]
  },
  {
   "cell_type": "code",
   "execution_count": 4,
   "metadata": {},
   "outputs": [],
   "source": [
    "with open(\"data.txt\",'w') as fp:\n",
    "        fp.writelines(''.join(text1))\n",
    "        fp.writelines(\"\\n\")\n",
    "        fp.writelines(''.join(text2))"
   ]
  },
  {
   "cell_type": "markdown",
   "metadata": {},
   "source": [
    "# b] You have to crop the area of image such that DIE no & Wt range will not be the part of image and write it to a new file.\n"
   ]
  },
  {
   "cell_type": "code",
   "execution_count": 5,
   "metadata": {},
   "outputs": [],
   "source": [
    "img1=cv2.imread(\"1.jpg\")\n",
    "img2=cv2.imread(\"2.jpg\")"
   ]
  },
  {
   "cell_type": "code",
   "execution_count": 6,
   "metadata": {},
   "outputs": [
    {
     "name": "stdout",
     "output_type": "stream",
     "text": [
      "img1=(508, 1024, 3), img2=(508, 1024, 3)\n"
     ]
    }
   ],
   "source": [
    "print(\"img1={}, img2={}\".format(img1.shape,img2.shape))"
   ]
  },
  {
   "cell_type": "code",
   "execution_count": 7,
   "metadata": {},
   "outputs": [
    {
     "data": {
      "text/plain": [
       "-1"
      ]
     },
     "execution_count": 7,
     "metadata": {},
     "output_type": "execute_result"
    }
   ],
   "source": [
    "croped_1=cv2.imread(\"1.jpg\")[50:455]\n",
    "cv2.imshow(\"img\",croped_1)\n",
    "cv2.waitKey(0)\n"
   ]
  },
  {
   "cell_type": "code",
   "execution_count": 8,
   "metadata": {},
   "outputs": [
    {
     "data": {
      "text/plain": [
       "-1"
      ]
     },
     "execution_count": 8,
     "metadata": {},
     "output_type": "execute_result"
    }
   ],
   "source": [
    "croped_2=cv2.imread(\"2.jpg\")[50:455]\n",
    "cv2.imshow(\"img\",croped_2)\n",
    "cv2.waitKey(0)"
   ]
  },
  {
   "cell_type": "raw",
   "metadata": {},
   "source": [
    "#save  croped images"
   ]
  },
  {
   "cell_type": "code",
   "execution_count": 9,
   "metadata": {},
   "outputs": [
    {
     "data": {
      "text/plain": [
       "True"
      ]
     },
     "execution_count": 9,
     "metadata": {},
     "output_type": "execute_result"
    }
   ],
   "source": [
    "cv2.imwrite(\"croped_1.jpg\",croped_1)\n",
    "cv2.imwrite(\"croped_2.jpg\",croped_2)"
   ]
  },
  {
   "cell_type": "code",
   "execution_count": 10,
   "metadata": {},
   "outputs": [
    {
     "data": {
      "text/plain": [
       "-1"
      ]
     },
     "execution_count": 10,
     "metadata": {},
     "output_type": "execute_result"
    }
   ],
   "source": [
    "img=cv2.imread('croped_1.jpg')\n",
    "cv2.imshow(\"img\",img)\n",
    "cv2.waitKey(0)"
   ]
  }
 ],
 "metadata": {
  "kernelspec": {
   "display_name": "Python 3",
   "language": "python",
   "name": "python3"
  },
  "language_info": {
   "codemirror_mode": {
    "name": "ipython",
    "version": 3
   },
   "file_extension": ".py",
   "mimetype": "text/x-python",
   "name": "python",
   "nbconvert_exporter": "python",
   "pygments_lexer": "ipython3",
   "version": "3.7.6"
  }
 },
 "nbformat": 4,
 "nbformat_minor": 4
}
