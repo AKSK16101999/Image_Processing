{
 "cells": [
  {
   "cell_type": "code",
   "execution_count": 1,
   "metadata": {},
   "outputs": [],
   "source": [
    "import pytesseract,cv2,os,re\n",
    "from PIL import Image\n",
    "pytesseract.pytesseract.tesseract_cmd = r'C:\\Program Files\\Tesseract-OCR\\tesseract.exe'"
   ]
  },
  {
   "cell_type": "code",
   "execution_count": 2,
   "metadata": {},
   "outputs": [],
   "source": [
    "Dir=os.getcwd()\n"
   ]
  },
  {
   "cell_type": "code",
   "execution_count": 3,
   "metadata": {},
   "outputs": [
    {
     "name": "stdout",
     "output_type": "stream",
     "text": [
      "C:\\Users\\KANAWADE AKSHAY\\desktop\\Image_processing\\python interview\\image\n",
      "['1.jpg', '2.jpg']\n",
      "1.jpg\n",
      "2.jpg\n",
      "[['91401'], ['89002']]\n"
     ]
    }
   ],
   "source": [
    "list1=[]\n",
    "path = os.path.join(Dir, 'image')\n",
    "print(path)\n",
    "images = os.listdir(path)\n",
    "print(images)\n",
    "for a in images:\n",
    "            print(a)\n",
    "            image = cv2.imread(a)\n",
    "            img=cv2.resize(image,(500,500))\n",
    "            text=pytesseract.image_to_string(img[:50])\n",
    "            text1=re.findall(r\"[\\d]+\",text)\n",
    "            list1.append(text1)\n",
    "print (list1)\n",
    "with open(\"data1.txt\",'w') as fp:\n",
    "        for item in list1:\n",
    "                fp.writelines(''.join(item))\n",
    "                fp.writelines(\"\\n\")\n",
    "        fp.close()"
   ]
  },
  {
   "cell_type": "code",
   "execution_count": 7,
   "metadata": {},
   "outputs": [
    {
     "name": "stdout",
     "output_type": "stream",
     "text": [
      "C:\\Users\\KANAWADE AKSHAY\\desktop\\Image_processing\\python interview\\image\n",
      "['1.jpg', '2.jpg']\n",
      "1.jpg\n",
      "2.jpg\n"
     ]
    }
   ],
   "source": [
    "path = os.path.join(Dir, 'image')\n",
    "print(path)\n",
    "images = os.listdir(path)\n",
    "print(images)\n",
    "data=[]\n",
    "i=0\n",
    "for a in images:\n",
    "            print(a)\n",
    "            image = cv2.imread(a)\n",
    "            img=cv2.resize(image,(500,500))\n",
    "            croped_img=img[50:450]\n",
    "            data.append(croped_img)\n",
    "            cv2.imshow(\"croped_img\",croped_img)\n",
    "            cv2.waitKey(0)\n",
    "            i=i+1"
   ]
  },
  {
   "cell_type": "code",
   "execution_count": 8,
   "metadata": {},
   "outputs": [],
   "source": [
    "i=0\n",
    "path = os.path.join(Dir, 'croped_img')\n",
    "for item in data:\n",
    "    cv2.imwrite(path+\"/\"+str(i)+\".jpg\",item)\n",
    "    i+=1"
   ]
  },
  {
   "cell_type": "code",
   "execution_count": 9,
   "metadata": {},
   "outputs": [
    {
     "data": {
      "text/plain": [
       "-1"
      ]
     },
     "execution_count": 9,
     "metadata": {},
     "output_type": "execute_result"
    }
   ],
   "source": [
    "croped_img=cv2.imread(\"croped_img/0.jpg\")\n",
    "cv2.imshow(\"croped_img\",croped_img)\n",
    "cv2.waitKey(0)"
   ]
  }
 ],
 "metadata": {
  "kernelspec": {
   "display_name": "Python 3",
   "language": "python",
   "name": "python3"
  },
  "language_info": {
   "codemirror_mode": {
    "name": "ipython",
    "version": 3
   },
   "file_extension": ".py",
   "mimetype": "text/x-python",
   "name": "python",
   "nbconvert_exporter": "python",
   "pygments_lexer": "ipython3",
   "version": "3.7.6"
  }
 },
 "nbformat": 4,
 "nbformat_minor": 4
}
