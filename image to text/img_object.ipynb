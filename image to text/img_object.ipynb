{
 "cells": [
  {
   "cell_type": "code",
   "execution_count": 1,
   "id": "453be4b3",
   "metadata": {},
   "outputs": [],
   "source": [
    "import cv2,re\n",
    "import pytesseract\n",
    "import numpy as np"
   ]
  },
  {
   "cell_type": "code",
   "execution_count": 2,
   "id": "67af0ee7",
   "metadata": {},
   "outputs": [
    {
     "name": "stdout",
     "output_type": "stream",
     "text": [
      "(500, 500, 3)\n"
     ]
    }
   ],
   "source": [
    "image = cv2.imread('img6.jpg')\n",
    "image=cv2.resize(image,(600,600))\n",
    "print(image.shape)\n",
    "#hsv = cv2.cvtColor(image, cv2.COLOR_BGR2RGB)"
   ]
  },
  {
   "cell_type": "code",
   "execution_count": null,
   "id": "bbcae9cf",
   "metadata": {},
   "outputs": [
    {
     "name": "stdout",
     "output_type": "stream",
     "text": [
      "[]\n"
     ]
    }
   ],
   "source": [
    "hsv = cv2.cvtColor(image, cv2.COLOR_BGR2RGB)\n",
    "lower = np.array([5,5,5])\n",
    "upper = np.array([250, 250, 250])\n",
    "mask = cv2.inRange(hsv, lower, upper)\n",
    "canny=cv2.Canny(mask,205,195)\n",
    "erode=cv2.erode(mask,(3,3))\n",
    "dilate=cv2.dilate(mask,(3,3),iterations=1)\n",
    "# Invert image and OCR\n",
    "invert =255-dilate\n",
    "cv2.imshow(\"dilate\",dilate)\n",
    "text=pytesseract.image_to_string(erode)\n",
    "text1=re.findall(r\"[\\d]+\",text)\n",
    "print(text1)\n",
    "cv2.imshow('mask', mask)\n",
    "cv2.imshow(\"canny\",canny)\n",
    "cv2.imshow('erode', erode)\n",
    "cv2.imshow('invert', invert)\n",
    "cv2.waitKey(0)"
   ]
  },
  {
   "cell_type": "code",
   "execution_count": null,
   "id": "03a965cb",
   "metadata": {},
   "outputs": [],
   "source": [
    "hsv = cv2.cvtColor(image, cv2.COLOR_BGR2RGB)\n",
    "lower = np.array([20,0,0])\n",
    "upper = np.array([250, 250, 250])\n",
    "mask = cv2.inRange(hsv, lower, upper)\n",
    "#canny=cv2.Canny(mask,205,195)\n",
    "erode=cv2.erode(mask,(3,3))\n",
    "#dilate=cv2.dilate(mask,(3,3),iterations=1)\n",
    "# Invert image and OCR\n",
    "#invert =255-dilate\n",
    "#cv2.imshow(\"dilate\",dilate)\n",
    "text=pytesseract.image_to_string(erode)\n",
    "text1=re.findall(r\"[\\d]+\",text)\n",
    "print(text1)\n",
    "#cv2.imshow('mask', mask)\n",
    "#cv2.imshow(\"canny\",canny)\n",
    "cv2.imshow('erode', erode)\n",
    "#cv2.imshow('invert', invert)\n",
    "cv2.waitKey(0)\n"
   ]
  },
  {
   "cell_type": "code",
   "execution_count": null,
   "id": "2dc0efc2",
   "metadata": {},
   "outputs": [],
   "source": [
    "text=pytesseract.image_to_string(erode)\n",
    "text1=re.findall(r\"[\\d]+\",text)\n",
    "text1"
   ]
  },
  {
   "cell_type": "code",
   "execution_count": null,
   "id": "a868109f",
   "metadata": {},
   "outputs": [],
   "source": [
    "hsv = cv2.cvtColor(image, cv2.COLOR_BGR2HSV)\n",
    "lower = np.array([95,80,45])\n",
    "upper = np.array([250, 250, 250])\n",
    "mask = cv2.inRange(hsv, lower, upper)\n",
    "erode=cv2.erode(mask,(1,1))\n",
    "dilate=cv2.dilate(mask,(7,7),iterations=1)\n",
    "# Invert image and OCR\n",
    "invert =255-dilate\n",
    "#cv2.imshow(\"dilate\",dilate)\n",
    "cv2.imshow('mask', mask)\n",
    "#cv2.imshow(\"canny\",canny)\n",
    "#cv2.imshow('erode', erode)\n",
    "#cv2.imshow('invert', invert)\n",
    "cv2.waitKey()\n"
   ]
  },
  {
   "cell_type": "code",
   "execution_count": null,
   "id": "b64a182b",
   "metadata": {},
   "outputs": [],
   "source": [
    "hsv = cv2.cvtColor(image, cv2.COLOR_BGR2HSV)\n",
    "lower = np.array([25,10,0])\n",
    "upper = np.array([250, 250, 250])\n",
    "mask = cv2.inRange(hsv, lower, upper)\n",
    "erode=cv2.erode(mask,(1,1))\n",
    "dilate=cv2.dilate(mask,(5,5),iterations=1)\n",
    "canny=cv2.Canny(mask,205,195)\n",
    "# Invert image and OCR\n",
    "invert =255-dilate\n",
    "cv2.imshow(\"dilate\",dilate)\n",
    "cv2.imshow('mask', mask)\n",
    "#cv2.imshow(\"canny\",canny)\n",
    "#cv2.imshow('erode', erode)\n",
    "#cv2.imshow('invert', invert)\n",
    "cv2.waitKey()\n"
   ]
  },
  {
   "cell_type": "code",
   "execution_count": null,
   "id": "1ffc94f6",
   "metadata": {},
   "outputs": [],
   "source": []
  }
 ],
 "metadata": {
  "kernelspec": {
   "display_name": "Python 3",
   "language": "python",
   "name": "python3"
  },
  "language_info": {
   "codemirror_mode": {
    "name": "ipython",
    "version": 3
   },
   "file_extension": ".py",
   "mimetype": "text/x-python",
   "name": "python",
   "nbconvert_exporter": "python",
   "pygments_lexer": "ipython3",
   "version": "3.6.9"
  }
 },
 "nbformat": 4,
 "nbformat_minor": 5
}
