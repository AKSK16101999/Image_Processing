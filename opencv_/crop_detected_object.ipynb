{
 "cells": [
  {
   "cell_type": "code",
   "execution_count": null,
   "id": "47ed622d",
   "metadata": {},
   "outputs": [],
   "source": [
    "import os\n",
    "import cv2\n",
    "import random\n",
    "import numpy as np\n",
    "import tensorflow as tf\n",
    "import pytesseract\n",
    "from core.utils import read_class_names\n",
    "from core.config import cfg"
   ]
  },
  {
   "cell_type": "code",
   "execution_count": null,
   "id": "ee1c39ab",
   "metadata": {},
   "outputs": [],
   "source": [
    "# function for cropping each detection and saving as new image\n",
    "def crop_objects(img, data, path, allowed_classes):\n",
    "    boxes, scores, classes, num_objects = data\n",
    "    class_names = read_class_names(cfg.YOLO.CLASSES)\n",
    "    #create dictionary to hold count of objects for image name\n",
    "    counts = dict()\n",
    "    for i in range(num_objects):\n",
    "        # get count of class for part of image name\n",
    "        class_index = int(classes[i])\n",
    "        class_name = class_names[class_index]\n",
    "        if class_name in allowed_classes:\n",
    "            counts[class_name] = counts.get(class_name, 0) + 1\n",
    "            # get box coords\n",
    "            xmin, ymin, xmax, ymax = boxes[i]\n",
    "            # crop detection from image (take an additional 5 pixels around all edges)\n",
    "            cropped_img = img[int(ymin)-5:int(ymax)+5, int(xmin)-5:int(xmax)+5]\n",
    "            # construct image name and join it to path for saving crop properly\n",
    "            img_name = class_name + '_' + str(counts[class_name]) + '.png'\n",
    "            img_path = os.path.join(path, img_name )\n",
    "            # save image\n",
    "            cv2.imwrite(img_path, cropped_img)\n",
    "        else:\n",
    "            continue\n"
   ]
  },
  {
   "cell_type": "code",
   "execution_count": null,
   "id": "41f6f56d",
   "metadata": {},
   "outputs": [],
   "source": [
    "original_image=cv2.imread(\"3 (1).png\") \n",
    "    \n",
    "    crop_path = os.path.join(os.getcwd(), 'detections', 'crop', image_name)\n",
    "            try:\n",
    "                os.mkdir(crop_path)\n",
    "            except FileExistsError:\n",
    "                pass\n",
    "            crop_objects(cv2.cvtColor(original_image, cv2.COLOR_BGR2RGB), pred_bbox, crop_path, allowed_classes)\n"
   ]
  }
 ],
 "metadata": {
  "kernelspec": {
   "display_name": "Python 3",
   "language": "python",
   "name": "python3"
  },
  "language_info": {
   "codemirror_mode": {
    "name": "ipython",
    "version": 3
   },
   "file_extension": ".py",
   "mimetype": "text/x-python",
   "name": "python",
   "nbconvert_exporter": "python",
   "pygments_lexer": "ipython3",
   "version": "3.6.9"
  }
 },
 "nbformat": 4,
 "nbformat_minor": 5
}
