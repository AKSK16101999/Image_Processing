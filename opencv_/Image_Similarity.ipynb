{
 "cells": [
  {
   "cell_type": "code",
   "execution_count": 31,
   "id": "fc052a7a",
   "metadata": {},
   "outputs": [
    {
     "name": "stdout",
     "output_type": "stream",
     "text": [
      "2.jpg is more similar to 1.jpg as compare to 3.jpg\n"
     ]
    }
   ],
   "source": [
    "import cv2\n",
    "\n",
    "# test image\n",
    "image = cv2.imread('img_simi/1.jpg')\n",
    "gray_image = cv2.cvtColor(image, cv2.COLOR_BGR2GRAY)\n",
    "histogram = cv2.calcHist([gray_image], [0],None, [256], [0, 256])\n",
    "\n",
    "# data1 image\n",
    "image = cv2.imread('img_simi/2.jpg')\n",
    "gray_image1 = cv2.cvtColor(image, cv2.COLOR_BGR2GRAY)\n",
    "histogram1 = cv2.calcHist([gray_image1], [0],None, [256], [0, 256])\n",
    "\n",
    "# data2 image\n",
    "image = cv2.imread('img_simi/3.jpg')\n",
    "gray_image2 = cv2.cvtColor(image, cv2.COLOR_BGR2GRAY)\n",
    "histogram2 = cv2.calcHist([gray_image2], [0],None, [256], [0, 256])\n",
    "\n",
    "c1, c2 = 0, 0\n",
    "# Euclidean Distace between data1 and test\n",
    "i = 0\n",
    "while i<len(histogram) and i<len(histogram1):\n",
    "\tc1+=(histogram[i]-histogram1[i])**2\n",
    "\ti+= 1\n",
    "c1 = c1**(1 / 2)\n",
    "\n",
    "# Euclidean Distace between data2 and test\n",
    "i = 0\n",
    "while i<len(histogram) and i<len(histogram2):\n",
    "\tc2+=(histogram[i]-histogram2[i])**2\n",
    "\ti+= 1\n",
    "c2 = c2**(1 / 2)\n",
    "if(c1<c2):\n",
    "\tprint(\"2.jpg is more similar to 1.jpg as compare to 3.jpg\")\n",
    "else:\n",
    "\tprint(\"3.jpg is more similar to 1.jpg as compare to 2.jpg\")"
   ]
  },
  {
   "cell_type": "code",
   "execution_count": 37,
   "id": "e76fe54c",
   "metadata": {},
   "outputs": [
    {
     "name": "stdout",
     "output_type": "stream",
     "text": [
      "images are not similar\n"
     ]
    }
   ],
   "source": [
    "from PIL import Image\n",
    "import imagehash\n",
    "hash0 = imagehash.average_hash(Image.open('img_simi/1.jpg')) \n",
    "hash1 = imagehash.average_hash(Image.open('img_simi/6.jpg')) \n",
    "cutoff = 1     # maximum bits that could be different between the hashes. \n",
    "\n",
    "if hash0 - hash1 <= cutoff:\n",
    "  print('images are similar')\n",
    "else:\n",
    "  print('images are not similar')"
   ]
  },
  {
   "cell_type": "code",
   "execution_count": 38,
   "id": "2fbd51ba",
   "metadata": {},
   "outputs": [
    {
     "name": "stdout",
     "output_type": "stream",
     "text": [
      "SSIM: 0.9548491607866954\n"
     ]
    }
   ],
   "source": [
    "# Based on: https://github.com/mostafaGwely/Structural-Similarity-Index-SSIM-\n",
    "\n",
    "# 1. Import the necessary packages\n",
    "from skimage.metrics import structural_similarity\n",
    "import cv2\n",
    "\n",
    "# 2. Construct the argument parse and parse the arguments\n",
    "\n",
    "# 3. Load the two input images\n",
    "imageA = cv2.imread(\"img_simi/1.jpg\")\n",
    "imageB = cv2.imread(\"img_simi/img4.jpg\")\n",
    "\n",
    "# 4. Convert the images to grayscale\n",
    "grayA = cv2.cvtColor(imageA, cv2.COLOR_BGR2GRAY)\n",
    "grayB = cv2.cvtColor(imageB, cv2.COLOR_BGR2GRAY)\n",
    "\n",
    "# 5. Compute the Structural Similarity Index (SSIM) between the two\n",
    "#    images, ensuring that the difference image is returned\n",
    "(score, diff) = structural_similarity(grayA, grayB, full=True)\n",
    "diff = (diff * 255).astype(\"uint8\")\n",
    "\n",
    "# 6. You can print only the score if you want\n",
    "print(\"SSIM: {}\".format(score))"
   ]
  },
  {
   "cell_type": "code",
   "execution_count": 30,
   "id": "c1e0409e",
   "metadata": {},
   "outputs": [
    {
     "name": "stdout",
     "output_type": "stream",
     "text": [
      "Similarity using ORB is:  0.08461538461538462\n",
      "Similarity using SSIM is:  0.11373466099317998\n"
     ]
    },
    {
     "name": "stderr",
     "output_type": "stream",
     "text": [
      "/home/akshay_kanawade/my_env/lib/python3.6/site-packages/ipykernel_launcher.py:28: UserWarning: Inputs have mismatched dtype.  Setting data_range based on im1.dtype.\n"
     ]
    }
   ],
   "source": [
    "from skimage.metrics import structural_similarity\n",
    "import cv2\n",
    "\n",
    "#Works well with images of different dimensions\n",
    "def orb_sim(img1, img2):\n",
    "  # SIFT is no longer available in cv2 so using ORB\n",
    "  orb = cv2.ORB_create()\n",
    "\n",
    "  # detect keypoints and descriptors\n",
    "  kp_a, desc_a = orb.detectAndCompute(img1, None)\n",
    "  kp_b, desc_b = orb.detectAndCompute(img2, None)\n",
    "\n",
    "  # define the bruteforce matcher object\n",
    "  bf = cv2.BFMatcher(cv2.NORM_HAMMING, crossCheck=True)\n",
    "    \n",
    "  #perform matches. \n",
    "  matches = bf.match(desc_a, desc_b)\n",
    "  #Look for similar regions with distance < 50. Goes from 0 to 100 so pick a number between.\n",
    "  similar_regions = [i for i in matches if i.distance < 50]  \n",
    "  if len(matches) == 0:\n",
    "    return 0\n",
    "  return len(similar_regions) / len(matches)\n",
    "\n",
    "\n",
    "#Needs images to be same dimensions\n",
    "def structural_sim(img1, img2):\n",
    "\n",
    "  sim, diff = structural_similarity(img1, img2, full=True)\n",
    "  return sim\n",
    "\n",
    "img00 = cv2.imread('img_simi/1.jpg', 0)\n",
    "img01 = cv2.imread('img_simi/2.jpg', 0)\n",
    "\n",
    "img1 = cv2.imread('img_simi/3.jpg', 0)  # 714 x 901 pixels\n",
    "img2 = cv2.imread('img_simi/4.jpg', 0)  # 714 x 901 pixels\n",
    "img3 = cv2.imread('img_simi/5.jpg', 0)  # 203 x 256 pixels\n",
    "img4 = cv2.imread('img_simi/6.jpg', 0)  # 203 x 256 pixels\n",
    "\n",
    "orb_similarity = orb_sim(img1, img3)  #1.0 means identical. Lower = not similar\n",
    "\n",
    "print(\"Similarity using ORB is: \", orb_similarity)\n",
    "#Resize for SSIM\n",
    "from skimage.transform import resize\n",
    "img5 = resize(img3, (img1.shape[0], img1.shape[1]), anti_aliasing=True, preserve_range=True)\n",
    "\n",
    "ssim = structural_sim(img1, img5) #1.0 means identical. Lower = not similar\n",
    "print(\"Similarity using SSIM is: \", ssim)\n"
   ]
  }
 ],
 "metadata": {
  "kernelspec": {
   "display_name": "Python 3",
   "language": "python",
   "name": "python3"
  },
  "language_info": {
   "codemirror_mode": {
    "name": "ipython",
    "version": 3
   },
   "file_extension": ".py",
   "mimetype": "text/x-python",
   "name": "python",
   "nbconvert_exporter": "python",
   "pygments_lexer": "ipython3",
   "version": "3.6.9"
  }
 },
 "nbformat": 4,
 "nbformat_minor": 5
}
