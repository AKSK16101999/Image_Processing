{
 "cells": [
  {
   "cell_type": "code",
   "execution_count": 10,
   "metadata": {},
   "outputs": [],
   "source": [
    "import os\n",
    "from PIL import Image, ImageChops\n",
    "import matplotlib.pyplot as plt\n",
    "\n",
    "def trim(im, margin_px = 10):\n",
    "    bg = Image.new(im.mode, im.size, im.getpixel((0,0)))\n",
    "    diff = ImageChops.difference(im, bg)\n",
    "    diff = ImageChops.add(diff, diff, 2.0, -100)\n",
    "    bbox = diff.getbbox()\n",
    "    if bbox:\n",
    "        new_bbox = (bbox[0]-margin_px, bbox[1]-margin_px, bbox[2]+margin_px, bbox[3]+margin_px)\n",
    "        return im.crop(new_bbox)\n",
    "    \n",
    "def convertImage(img):\n",
    "    img = img.convert(\"RGBA\")\n",
    "    datas = img.getdata()\n",
    "    newData = []\n",
    "  \n",
    "    for items in datas:\n",
    "        if items[0] in range(0,40) and items[1] in range(70, 255) and items[2] in range(0,255):\n",
    "            newData.append((255, 0, 0, 3))\n",
    "        else:\n",
    "            newData.append(items)\n",
    "    img.putdata(newData)\n",
    "    return img"
   ]
  },
  {
   "cell_type": "code",
   "execution_count": 11,
   "metadata": {},
   "outputs": [
    {
     "name": "stdout",
     "output_type": "stream",
     "text": [
      "03.jpg\n",
      "1.jpg\n",
      "04.jpg\n",
      "02.jpg\n"
     ]
    }
   ],
   "source": [
    "\n",
    "targer_folder = \"/home/akshay_kanawade/projects/notebooks/crop_image\"\n",
    "source_folder = \"/home/akshay_kanawade/projects/notebooks/source\"\n",
    "\n",
    "files = os.listdir(source_folder)\n",
    "\n",
    "for file in files:\n",
    "    print(file)\n",
    "    filename = file.split('.')[0]\n",
    "    im = Image.open(f\"{source_folder}/{file}\")\n",
    "    im = trim(im, 10)\n",
    "    im = convertImage(im)\n",
    "    im.save(f\"{targer_folder}/{filename}.png\", \"PNG\")\n",
    "    "
   ]
  },
  {
   "cell_type": "code",
   "execution_count": null,
   "metadata": {},
   "outputs": [],
   "source": []
  }
 ],
 "metadata": {
  "kernelspec": {
   "display_name": "Python 3",
   "language": "python",
   "name": "python3"
  },
  "language_info": {
   "codemirror_mode": {
    "name": "ipython",
    "version": 3
   },
   "file_extension": ".py",
   "mimetype": "text/x-python",
   "name": "python",
   "nbconvert_exporter": "python",
   "pygments_lexer": "ipython3",
   "version": "3.6.9"
  }
 },
 "nbformat": 4,
 "nbformat_minor": 2
}
