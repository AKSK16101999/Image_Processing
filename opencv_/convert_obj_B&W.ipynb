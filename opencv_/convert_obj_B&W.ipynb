{
 "cells": [
  {
   "cell_type": "code",
   "execution_count": 2,
   "id": "acd47d24",
   "metadata": {},
   "outputs": [
    {
     "name": "stdout",
     "output_type": "stream",
     "text": [
      "/home/akshay_kanawade/projects/notebooks/crop_image\n"
     ]
    }
   ],
   "source": [
    "import cv2\n",
    "import os\n",
    "import numpy as np\n",
    "from PIL import Image\n",
    "from pixellib.tune_bg import alter_bg\n",
    "\n",
    "Dir=os.getcwd()\n",
    "path = os.path.join(Dir, 'crop_image')\n",
    "images = os.listdir(path)\n",
    "for file in images:\n",
    "        filename1 = file.split('.')[0]\n",
    "        originalImage= cv2.imread(f\"{path}/{file}\")\n",
    "        originalImage = cv2.resize(originalImage,(500,500))\n",
    "        grayImage = cv2.cvtColor(originalImage, cv2.COLOR_BGR2GRAY)\n",
    "\n",
    "        (thresh, blackAndWhiteImage) = cv2.threshold(grayImage, 175, 255, cv2.THRESH_BINARY)\n",
    "        blackAndWhiteImage=cv2.bitwise_not(blackAndWhiteImage)\n",
    "        cv2.imshow('Black white image', blackAndWhiteImage)\n",
    "        cv2.imshow('Original image',originalImage)\n",
    "        cv2.imshow('Gray image', grayImage)\n",
    "\n",
    "        cv2.waitKey(0)\n",
    "        cv2.destroyAllWindows()"
   ]
  }
 ],
 "metadata": {
  "kernelspec": {
   "display_name": "Python 3",
   "language": "python",
   "name": "python3"
  },
  "language_info": {
   "codemirror_mode": {
    "name": "ipython",
    "version": 3
   },
   "file_extension": ".py",
   "mimetype": "text/x-python",
   "name": "python",
   "nbconvert_exporter": "python",
   "pygments_lexer": "ipython3",
   "version": "3.6.9"
  }
 },
 "nbformat": 4,
 "nbformat_minor": 5
}
