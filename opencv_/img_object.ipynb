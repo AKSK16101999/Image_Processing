{
 "cells": [
  {
   "cell_type": "markdown",
   "id": "21b5f9d1",
   "metadata": {},
   "source": [
    "# img 6,7 object"
   ]
  },
  {
   "cell_type": "code",
   "execution_count": 1,
   "id": "67af0ee7",
   "metadata": {},
   "outputs": [],
   "source": [
    "import cv2,re\n",
    "import pytesseract\n",
    "import numpy as np\n",
    "image = cv2.imread('img7.jpg')\n",
    "image=cv2.resize(image,(500,500))\n",
    "hsv = cv2.cvtColor(image, cv2.COLOR_BGR2RGB)\n",
    "lower = np.array([0,0,0])\n",
    "upper = np.array([250, 250, 250])\n",
    "mask = cv2.inRange(hsv, lower, upper)\n",
    "cv2.imshow('mask', mask)\n",
    "cv2.waitKey()\n",
    "cv2.destroyAllWindows()"
   ]
  },
  {
   "cell_type": "markdown",
   "id": "d72e602b",
   "metadata": {},
   "source": [
    "# a5  object img"
   ]
  },
  {
   "cell_type": "code",
   "execution_count": 2,
   "id": "2b00f890",
   "metadata": {},
   "outputs": [],
   "source": [
    "import cv2,re\n",
    "import pytesseract\n",
    "import numpy as np\n",
    "image = cv2.imread('a5.jpg')\n",
    "image=cv2.resize(image,(500,500))\n",
    "img = cv2.cvtColor(image, cv2.COLOR_BGR2RGB)\n",
    "cv2.imshow('img', img)\n",
    "cv2.waitKey()\n",
    "cv2.destroyAllWindows()"
   ]
  },
  {
   "cell_type": "markdown",
   "id": "7ff52510",
   "metadata": {},
   "source": [
    "# Img 6 ,7 extract number and object"
   ]
  },
  {
   "cell_type": "code",
   "execution_count": null,
   "id": "c211ef5e",
   "metadata": {},
   "outputs": [
    {
     "name": "stdout",
     "output_type": "stream",
     "text": [
      "[]\n"
     ]
    }
   ],
   "source": [
    "import cv2,re\n",
    "import pytesseract\n",
    "import numpy as np\n",
    "image = cv2.imread('img6.jpg')\n",
    "image=cv2.resize(image,(500,500))\n",
    "#image=cv2.rotate(image,cv2.ROTATE_90_COUNTERCLOCKWISE)\n",
    "hsv = cv2.cvtColor(image, cv2.COLOR_BGR2RGB)\n",
    "lower = np.array([50,0,0])\n",
    "upper = np.array([250, 250, 250])\n",
    "mask = cv2.inRange(hsv, lower, upper)\n",
    "erode=cv2.erode(mask,(3,3))\n",
    "# Extract Text\n",
    "text=pytesseract.image_to_string(erode)\n",
    "text1=re.findall(r\"[\\d]+\",text)\n",
    "print(text1)\n",
    "\n",
    "#object\n",
    "erode=cv2.erode(hsv,(3,3))\n",
    "erode=erode[50:400,:300]\n",
    "cv2.imshow('erode', erode)\n",
    "cv2.waitKey(0)\n",
    "cv2.destroyAllWindows()"
   ]
  },
  {
   "cell_type": "markdown",
   "id": "5ca55809",
   "metadata": {},
   "source": [
    "# a1,a2,a3,a4 img no & obj extract"
   ]
  },
  {
   "cell_type": "code",
   "execution_count": 4,
   "id": "453be4b3",
   "metadata": {},
   "outputs": [
    {
     "name": "stdout",
     "output_type": "stream",
     "text": [
      "[]\n"
     ]
    },
    {
     "data": {
      "text/plain": [
       "113"
      ]
     },
     "execution_count": 4,
     "metadata": {},
     "output_type": "execute_result"
    }
   ],
   "source": [
    "import cv2,re\n",
    "import pytesseract\n",
    "import numpy as np\n",
    "image = cv2.imread('a4.jpg')\n",
    "image=cv2.resize(image,(500,500))\n",
    "text=pytesseract.image_to_string(image[20:100,:200])\n",
    "text1=re.findall(r\"[\\d]+\",text)\n",
    "print(text1)\n",
    "hsv = cv2.cvtColor(image, cv2.COLOR_BGR2HSV)\n",
    "lower = np.array([85,45,20])\n",
    "upper = np.array([250, 250, 250])\n",
    "mask = cv2.inRange(hsv, lower, upper)\n",
    "cv2.imshow('mask', mask)\n",
    "cv2.waitKey()"
   ]
  }
 ],
 "metadata": {
  "kernelspec": {
   "display_name": "Python 3",
   "language": "python",
   "name": "python3"
  },
  "language_info": {
   "codemirror_mode": {
    "name": "ipython",
    "version": 3
   },
   "file_extension": ".py",
   "mimetype": "text/x-python",
   "name": "python",
   "nbconvert_exporter": "python",
   "pygments_lexer": "ipython3",
   "version": "3.6.9"
  }
 },
 "nbformat": 4,
 "nbformat_minor": 5
}
