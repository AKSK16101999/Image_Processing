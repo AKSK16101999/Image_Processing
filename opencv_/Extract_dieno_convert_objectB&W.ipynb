{
 "cells": [
  {
   "cell_type": "code",
   "execution_count": 1,
   "id": "54e292c6",
   "metadata": {},
   "outputs": [],
   "source": [
    "import pytesseract,cv2,os,re\n",
    "#pytesseract.pytesseract.tesseract_cmd = r'C:\\Program Files\\Tesseract-OCR\\tesseract.exe'\n",
    "import numpy as np\n",
    "Dir=os.getcwd()"
   ]
  },
  {
   "cell_type": "code",
   "execution_count": 2,
   "id": "5fe24199",
   "metadata": {},
   "outputs": [
    {
     "name": "stdout",
     "output_type": "stream",
     "text": [
      "[['91401'], ['89002']]\n"
     ]
    }
   ],
   "source": [
    "list1=[]\n",
    "path = os.path.join(Dir, 'image')\n",
    "images = os.listdir(path)\n",
    "for a in images:\n",
    "            image = cv2.imread(a)\n",
    "            img=cv2.resize(image,(500,500))\n",
    "            text=re.findall(r\"[\\d]+\", pytesseract.image_to_string(img[:50]))\n",
    "            list1.append(text)\n",
    "print (list1)\n",
    "with open(\"data1.txt\",'w') as fp:\n",
    "        for item in list1:\n",
    "                fp.writelines(''.join(item))\n",
    "                fp.writelines(\"\\n\")\n",
    "        fp.close()"
   ]
  },
  {
   "cell_type": "code",
   "execution_count": 3,
   "id": "451cff6e",
   "metadata": {},
   "outputs": [],
   "source": [
    "path = os.path.join(Dir, 'image')\n",
    "images = os.listdir(path)\n",
    "for a in images:\n",
    "        image = cv2.imread(a)\n",
    "        img=cv2.resize(image,(500,500))\n",
    "        hsv = cv2.cvtColor(image, cv2.COLOR_BGR2HSV)\n",
    "        lower = np.array([85,45,25])\n",
    "        upper = np.array([250, 250, 250])\n",
    "        mask = cv2.inRange(hsv, lower, upper)\n",
    "        mask=cv2.bitwise_not(mask)\n",
    "        cv2.imshow('mask', mask)\n",
    "        cv2.waitKey(0)\n",
    "        cv2.destroyAllWindows()"
   ]
  }
 ],
 "metadata": {
  "kernelspec": {
   "display_name": "Python 3",
   "language": "python",
   "name": "python3"
  },
  "language_info": {
   "codemirror_mode": {
    "name": "ipython",
    "version": 3
   },
   "file_extension": ".py",
   "mimetype": "text/x-python",
   "name": "python",
   "nbconvert_exporter": "python",
   "pygments_lexer": "ipython3",
   "version": "3.6.9"
  }
 },
 "nbformat": 4,
 "nbformat_minor": 5
}
