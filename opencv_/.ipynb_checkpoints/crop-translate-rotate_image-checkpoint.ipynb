{
 "cells": [
  {
   "cell_type": "code",
   "execution_count": 1,
   "metadata": {},
   "outputs": [],
   "source": [
    "import cv2\n",
    "import numpy as np"
   ]
  },
  {
   "cell_type": "code",
   "execution_count": 2,
   "metadata": {},
   "outputs": [
    {
     "data": {
      "text/plain": [
       "-1"
      ]
     },
     "execution_count": 2,
     "metadata": {},
     "output_type": "execute_result"
    }
   ],
   "source": [
    "img=cv2.imread(\"Image/0.jpg\")\n",
    "cv2.imshow(\"Image\",img)\n",
    "cv2.waitKey(0)"
   ]
  },
  {
   "cell_type": "markdown",
   "metadata": {},
   "source": [
    "# image crop"
   ]
  },
  {
   "cell_type": "code",
   "execution_count": 3,
   "metadata": {},
   "outputs": [
    {
     "data": {
      "text/plain": [
       "-1"
      ]
     },
     "execution_count": 3,
     "metadata": {},
     "output_type": "execute_result"
    }
   ],
   "source": [
    "img=cv2.imread(\"Image/0.jpg\")\n",
    "croped=img[50:200,100:600]\n",
    "cv2.imshow(\"Image\",croped)\n",
    "cv2.waitKey(0)"
   ]
  },
  {
   "cell_type": "markdown",
   "metadata": {},
   "source": [
    "# image translation"
   ]
  },
  {
   "cell_type": "code",
   "execution_count": 4,
   "metadata": {},
   "outputs": [],
   "source": [
    "def translate(img,x,y):\n",
    "    transmat=np.float32([[1,0,x],[0,1,y]])\n",
    "    dim=(img.shape[1],img.shape[0])\n",
    "    return cv2.warpAffine(img,transmat,dim)"
   ]
  },
  {
   "cell_type": "raw",
   "metadata": {},
   "source": [
    "-x  = left\n",
    "-y  = up\n",
    "x  = right\n",
    "y  = down"
   ]
  },
  {
   "cell_type": "code",
   "execution_count": 5,
   "metadata": {},
   "outputs": [
    {
     "data": {
      "text/plain": [
       "-1"
      ]
     },
     "execution_count": 5,
     "metadata": {},
     "output_type": "execute_result"
    }
   ],
   "source": [
    "img=cv2.imread(\"Image/0.jpg\")\n",
    "translated=translate(img,100,100)\n",
    "cv2.imshow(\"Image\",img)\n",
    "cv2.imshow(\"Translated_Image\",translated)\n",
    "cv2.waitKey(0)"
   ]
  },
  {
   "cell_type": "markdown",
   "metadata": {},
   "source": [
    "# rotation"
   ]
  },
  {
   "cell_type": "code",
   "execution_count": 6,
   "metadata": {},
   "outputs": [],
   "source": [
    "def rotate(img,angle,rotpoint=None):\n",
    "    h,w=img.shape[:2]\n",
    "    if rotpoint is None:\n",
    "        rotpoint=(w//2,h//2)\n",
    "    rotmat=cv2.getRotationMatrix2D(rotpoint,angle,1.0)\n",
    "    dim=(w,h)\n",
    "    return cv2.warpAffine(img,rotmat,dim)"
   ]
  },
  {
   "cell_type": "code",
   "execution_count": 7,
   "metadata": {},
   "outputs": [
    {
     "data": {
      "text/plain": [
       "-1"
      ]
     },
     "execution_count": 7,
     "metadata": {},
     "output_type": "execute_result"
    }
   ],
   "source": [
    "img=cv2.imread(\"Image/0.jpg\")\n",
    "rotate=rotate(img,45)\n",
    "cv2.imshow(\"Image\",img)\n",
    "cv2.imshow(\"Translated_Image\",rotate)\n",
    "cv2.waitKey(0)"
   ]
  }
 ],
 "metadata": {
  "kernelspec": {
   "display_name": "Python 3",
   "language": "python",
   "name": "python3"
  },
  "language_info": {
   "codemirror_mode": {
    "name": "ipython",
    "version": 3
   },
   "file_extension": ".py",
   "mimetype": "text/x-python",
   "name": "python",
   "nbconvert_exporter": "python",
   "pygments_lexer": "ipython3",
   "version": "3.7.6"
  }
 },
 "nbformat": 4,
 "nbformat_minor": 4
}
